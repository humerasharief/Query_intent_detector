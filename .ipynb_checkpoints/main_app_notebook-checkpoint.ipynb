{
 "cells": [
  {
   "cell_type": "code",
   "execution_count": 11,
   "metadata": {
    "scrolled": true
   },
   "outputs": [],
   "source": [
    "import pandas as pd\n",
    "from nltk.corpus import stopwords  \n",
    "from nltk.tokenize import word_tokenize  \n",
    "import re\n",
    "import matplotlib.pyplot as plt\n",
    "import string\n",
    "import tensorflow as tf\n",
    "import tensorflow_addons as tfa\n",
    "import pickle as pkl\n",
    "from tensorflow.keras.preprocessing import sequence\n",
    "import numpy as np"
   ]
  },
  {
   "cell_type": "code",
   "execution_count": 2,
   "metadata": {},
   "outputs": [
    {
     "name": "stderr",
     "output_type": "stream",
     "text": [
      "[nltk_data] Downloading package stopwords to\n",
      "[nltk_data]     C:\\Users\\Lenovo\\AppData\\Roaming\\nltk_data...\n",
      "[nltk_data]   Package stopwords is already up-to-date!\n"
     ]
    },
    {
     "data": {
      "text/plain": [
       "True"
      ]
     },
     "execution_count": 2,
     "metadata": {},
     "output_type": "execute_result"
    }
   ],
   "source": [
    "import nltk\n",
    "nltk.download('stopwords')"
   ]
  },
  {
   "cell_type": "code",
   "execution_count": 12,
   "metadata": {},
   "outputs": [],
   "source": [
    "with open(\"bank_classes.pkl\", \"rb\") as f:\n",
    "    bank_classes = pkl.load(f)"
   ]
  },
  {
   "cell_type": "code",
   "execution_count": 13,
   "metadata": {},
   "outputs": [],
   "source": [
    "def preprocess(x):\n",
    "  '''\n",
    "  Preprocessing steps:\n",
    "  1. lower case\n",
    "  2. expand contraction \n",
    "  3. remove puctuation\n",
    "  4. lemetization\n",
    "  5. removing stop words\n",
    "  '''\n",
    "\n",
    "  #lower case \n",
    "  x = str(x).lower()\n",
    "\n",
    "  #expand contraction\n",
    "  x = x.replace(\"won't\", \"will not\").replace(\"cannot\", \"can not\").replace(\"can't\", \"can not\")\\\n",
    "                           .replace(\"n't\", \" not\").replace(\"what's\", \"what is\").replace(\"it's\", \"it is\")\\\n",
    "                           .replace(\"'ve\", \" have\").replace(\"i'm\", \"i am\").replace(\"'re\", \" are\")\\\n",
    "                           .replace(\"he's\", \"he is\").replace(\"she's\", \"she is\").replace(\"'s\", \" own\")\\\n",
    "                           .replace(\"'ll\", \" will\")\n",
    "\n",
    "  #remove puctuation\n",
    "  #https://stackoverflow.com/questions/34293875/how-to-remove-punctuation-marks-from-a-string-in-python-3-x-using-translate\n",
    "  x=re.sub('['+string.punctuation+']',\"\",x)\n",
    "\n",
    "  #lemetization of sentence\n",
    "  #Lemmatisation in linguistics is the process of grouping together the inflected forms of a word so they can be analysed as a single item\n",
    "  #Lemmatisation is better then stemming since it doesn't chop of the remaining part\n",
    "  word_tokens = word_tokenize(x) \n",
    "  lemmatizer = nltk.stem.WordNetLemmatizer()\n",
    "  lemetized_string=[lemmatizer.lemmatize(w) for w in word_tokens]\n",
    "  x = ' '.join(lemetized_string)  \n",
    "\n",
    "  #removing stop words\n",
    "  stop_words=set(stopwords.words('english'))\n",
    "  word_tokens = word_tokenize(x) \n",
    "  filtered_sentence = [w for w in word_tokens if not w in stop_words]\n",
    "  x = ' '.join(filtered_sentence)  \n",
    "\n",
    "\n",
    "  return x"
   ]
  },
  {
   "cell_type": "code",
   "execution_count": 14,
   "metadata": {},
   "outputs": [],
   "source": [
    "preprocessed_text=preprocess(\"I am still waiting on my card?\")"
   ]
  },
  {
   "cell_type": "code",
   "execution_count": 15,
   "metadata": {},
   "outputs": [
    {
     "data": {
      "text/plain": [
       "'still waiting card'"
      ]
     },
     "execution_count": 15,
     "metadata": {},
     "output_type": "execute_result"
    }
   ],
   "source": [
    "preprocessed_text"
   ]
  },
  {
   "cell_type": "code",
   "execution_count": 16,
   "metadata": {},
   "outputs": [],
   "source": [
    "with open(\"tokenizer.pkl\", \"rb\") as f:\n",
    "    tokenizer = pkl.load(f)"
   ]
  },
  {
   "cell_type": "code",
   "execution_count": 17,
   "metadata": {},
   "outputs": [],
   "source": [
    "tokenized_text=tokenizer.texts_to_sequences([preprocessed_text])"
   ]
  },
  {
   "cell_type": "code",
   "execution_count": 18,
   "metadata": {},
   "outputs": [],
   "source": [
    "max_length=14\n",
    "tokenized_padded_text=sequence.pad_sequences(tokenized_text,maxlen=max_length,padding='post')"
   ]
  },
  {
   "cell_type": "code",
   "execution_count": 19,
   "metadata": {},
   "outputs": [
    {
     "data": {
      "text/plain": [
       "array([[ 30, 131,   1,   0,   0,   0,   0,   0,   0,   0,   0,   0,   0,\n",
       "          0]])"
      ]
     },
     "execution_count": 19,
     "metadata": {},
     "output_type": "execute_result"
    }
   ],
   "source": [
    "tokenized_padded_text"
   ]
  },
  {
   "cell_type": "code",
   "execution_count": 20,
   "metadata": {},
   "outputs": [],
   "source": [
    "model = tf.keras.models.load_model('my_model.h5')"
   ]
  },
  {
   "cell_type": "code",
   "execution_count": 21,
   "metadata": {},
   "outputs": [],
   "source": [
    "output_score=model.predict(tokenized_padded_text)"
   ]
  },
  {
   "cell_type": "code",
   "execution_count": 22,
   "metadata": {},
   "outputs": [
    {
     "data": {
      "text/plain": [
       "0.7899732"
      ]
     },
     "execution_count": 22,
     "metadata": {},
     "output_type": "execute_result"
    }
   ],
   "source": [
    "max(output_score[0])"
   ]
  },
  {
   "cell_type": "code",
   "execution_count": 23,
   "metadata": {},
   "outputs": [
    {
     "data": {
      "text/plain": [
       "(array([12], dtype=int64),)"
      ]
     },
     "execution_count": 23,
     "metadata": {},
     "output_type": "execute_result"
    }
   ],
   "source": [
    "np.where(output_score[0] == 0.7899732)"
   ]
  },
  {
   "cell_type": "code",
   "execution_count": 24,
   "metadata": {},
   "outputs": [
    {
     "data": {
      "text/plain": [
       "array(['Refund_not_showing_up', 'activate_my_card', 'age_limit',\n",
       "       'apple_pay_or_google_pay', 'atm_support', 'automatic_top_up',\n",
       "       'balance_not_updated_after_bank_transfer',\n",
       "       'balance_not_updated_after_cheque_or_cash_deposit',\n",
       "       'beneficiary_not_allowed', 'cancel_transfer',\n",
       "       'card_about_to_expire', 'card_acceptance', 'card_arrival',\n",
       "       'card_delivery_estimate', 'card_linking', 'card_not_working',\n",
       "       'card_payment_fee_charged', 'card_payment_not_recognised',\n",
       "       'card_payment_wrong_exchange_rate', 'card_swallowed',\n",
       "       'cash_withdrawal_charge', 'cash_withdrawal_not_recognised',\n",
       "       'change_pin', 'compromised_card', 'contactless_not_working',\n",
       "       'country_support', 'declined_card_payment',\n",
       "       'declined_cash_withdrawal', 'declined_transfer',\n",
       "       'direct_debit_payment_not_recognised', 'disposable_card_limits',\n",
       "       'edit_personal_details', 'exchange_charge', 'exchange_rate',\n",
       "       'exchange_via_app', 'extra_charge_on_statement', 'failed_transfer',\n",
       "       'fiat_currency_support', 'get_disposable_virtual_card',\n",
       "       'get_physical_card', 'getting_spare_card', 'getting_virtual_card',\n",
       "       'lost_or_stolen_card', 'lost_or_stolen_phone',\n",
       "       'order_physical_card', 'passcode_forgotten',\n",
       "       'pending_card_payment', 'pending_cash_withdrawal',\n",
       "       'pending_top_up', 'pending_transfer', 'pin_blocked',\n",
       "       'receiving_money', 'request_refund', 'reverted_card_payment?',\n",
       "       'supported_cards_and_currencies', 'terminate_account',\n",
       "       'top_up_by_bank_transfer_charge', 'top_up_by_card_charge',\n",
       "       'top_up_by_cash_or_cheque', 'top_up_failed', 'top_up_limits',\n",
       "       'top_up_reverted', 'topping_up_by_card',\n",
       "       'transaction_charged_twice', 'transfer_fee_charged',\n",
       "       'transfer_into_account', 'transfer_not_received_by_recipient',\n",
       "       'transfer_timing', 'unable_to_verify_identity',\n",
       "       'verify_my_identity', 'verify_source_of_funds', 'verify_top_up',\n",
       "       'virtual_card_not_working', 'visa_or_mastercard',\n",
       "       'why_verify_identity', 'wrong_amount_of_cash_received',\n",
       "       'wrong_exchange_rate_for_cash_withdrawal'], dtype=object)"
      ]
     },
     "execution_count": 24,
     "metadata": {},
     "output_type": "execute_result"
    }
   ],
   "source": [
    "bank_classes"
   ]
  },
  {
   "cell_type": "code",
   "execution_count": 25,
   "metadata": {},
   "outputs": [],
   "source": [
    "df = pd.DataFrame(list(zip(bank_classes, output_score[0])), \n",
    "               columns =['Classes', 'Score']) "
   ]
  }
 ],
 "metadata": {
  "kernelspec": {
   "display_name": "Python 3",
   "language": "python",
   "name": "python3"
  },
  "language_info": {
   "codemirror_mode": {
    "name": "ipython",
    "version": 3
   },
   "file_extension": ".py",
   "mimetype": "text/x-python",
   "name": "python",
   "nbconvert_exporter": "python",
   "pygments_lexer": "ipython3",
   "version": "3.7.3"
  }
 },
 "nbformat": 4,
 "nbformat_minor": 2
}
